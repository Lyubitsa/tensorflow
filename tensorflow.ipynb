{
 "cells": [
  {
   "cell_type": "code",
   "execution_count": 1,
   "id": "6757e166",
   "metadata": {},
   "outputs": [],
   "source": [
    "import os\n",
    "\n",
    "os.environ[\"TF_CPP_MIN_LOG_LEVEL\"] = \"2\" # no errors in pycharm\n",
    "\n",
    "import tensorflow as tf"
   ]
  },
  {
   "cell_type": "code",
   "execution_count": 2,
   "id": "ed033513",
   "metadata": {},
   "outputs": [
    {
     "name": "stdout",
     "output_type": "stream",
     "text": [
      "tf.Tensor(2, shape=(), dtype=int32)\n"
     ]
    }
   ],
   "source": [
    "x = tf.constant(2)\n",
    "print(x)"
   ]
  },
  {
   "cell_type": "code",
   "execution_count": 3,
   "id": "107417a5",
   "metadata": {},
   "outputs": [
    {
     "name": "stdout",
     "output_type": "stream",
     "text": [
      "tf.Tensor(\n",
      "[[0. 0.]\n",
      " [0. 0.]], shape=(2, 2), dtype=float32)\n"
     ]
    }
   ],
   "source": [
    "x_zero = tf.zeros((2,2))\n",
    "print(x_zero)"
   ]
  },
  {
   "cell_type": "code",
   "execution_count": 7,
   "id": "e64c57f4",
   "metadata": {},
   "outputs": [
    {
     "data": {
      "text/plain": [
       "<tf.Tensor: shape=(4, 5), dtype=float32, numpy=\n",
       "array([[1., 1., 1., 1., 1.],\n",
       "       [1., 1., 1., 1., 1.],\n",
       "       [1., 1., 1., 1., 1.],\n",
       "       [1., 1., 1., 1., 1.]], dtype=float32)>"
      ]
     },
     "execution_count": 7,
     "metadata": {},
     "output_type": "execute_result"
    }
   ],
   "source": [
    "y = tf.ones((4,5))\n",
    "y"
   ]
  },
  {
   "cell_type": "code",
   "execution_count": 12,
   "id": "d0e5b91a",
   "metadata": {},
   "outputs": [
    {
     "name": "stdout",
     "output_type": "stream",
     "text": [
      "tf.Tensor([0 1 2 3 4 5 6 7 8], shape=(9,), dtype=int32)\n"
     ]
    }
   ],
   "source": [
    "y = tf.range(9)\n",
    "print(y)"
   ]
  },
  {
   "cell_type": "code",
   "execution_count": 13,
   "id": "0f5678c1",
   "metadata": {},
   "outputs": [
    {
     "name": "stdout",
     "output_type": "stream",
     "text": [
      "tf.Tensor([20 25 30 35 40 45 50 55 60 65 70 75 80 85 90 95], shape=(16,), dtype=int32)\n"
     ]
    }
   ],
   "source": [
    "y= tf.range(start=20, limit=100, delta= 5)\n",
    "print(y )"
   ]
  },
  {
   "cell_type": "code",
   "execution_count": null,
   "id": "3a177072",
   "metadata": {},
   "outputs": [],
   "source": [
    "x = tf.constant([1,2,3])\n",
    "y = tf.constant([9,7,8])"
   ]
  },
  {
   "cell_type": "code",
   "execution_count": 18,
   "id": "b4ac29a1",
   "metadata": {},
   "outputs": [
    {
     "name": "stdout",
     "output_type": "stream",
     "text": [
      "tf.Tensor([22 27 32 37 42 47 52 57 62 67 72 77 82 87 92 97], shape=(16,), dtype=int32)\n"
     ]
    }
   ],
   "source": [
    "z = x + y\n",
    "print(z)"
   ]
  },
  {
   "cell_type": "code",
   "execution_count": 22,
   "id": "6092aa4a",
   "metadata": {},
   "outputs": [
    {
     "data": {
      "text/plain": [
       "<tf.Tensor: shape=(16,), dtype=int32, numpy=\n",
       "array([22, 27, 32, 37, 42, 47, 52, 57, 62, 67, 72, 77, 82, 87, 92, 97],\n",
       "      dtype=int32)>"
      ]
     },
     "execution_count": 22,
     "metadata": {},
     "output_type": "execute_result"
    }
   ],
   "source": [
    "z"
   ]
  },
  {
   "cell_type": "code",
   "execution_count": null,
   "id": "64e1a4ca",
   "metadata": {},
   "outputs": [],
   "source": [
    "# Initialization\n",
    "x = tf.constant(4, shape=(1, 1), dtype=tf.float32)\n",
    "print(x)\n",
    "\n",
    "x = tf.constant([[1, 2, 3], [4, 5, 6]], shape=(2, 3))\n",
    "print(x)\n",
    "\n",
    "x = tf.eye(3)\n",
    "print(x)\n",
    "\n",
    "x = tf.ones((4, 3))\n",
    "print(x)\n",
    "\n",
    "x = tf.zeros((3, 2, 5))\n",
    "print(x)\n",
    "\n",
    "x = tf.random.uniform((2, 2), minval=0, maxval=1)\n",
    "print(x)\n",
    "\n",
    "x = tf.random.normal((3, 3), mean=0, stddev=1)\n",
    "print(tf.cast(x, dtype=tf.float64))\n",
    "# tf.float (16,32,64), tf.int (8, 16, 32, 64), tf.bool\n",
    "\n",
    "x = tf.range(9)\n",
    "x = tf.range(start=0, limit=10, delta=2)\n",
    "print(x)\n",
    "\n"
   ]
  },
  {
   "cell_type": "code",
   "execution_count": null,
   "id": "41850606",
   "metadata": {},
   "outputs": [],
   "source": [
    "\n",
    "# Math\n",
    "x = tf.constant([1, 2, 3])\n",
    "y = tf.constant([9, 8, 7])\n",
    "\n",
    "z = tf.add(x, y)\n",
    "z = x + y\n",
    "\n",
    "z = tf.subtract(x, y)\n",
    "z = x - y\n",
    "\n",
    "z = tf.divide(x, y)\n",
    "z = x / y\n",
    "\n",
    "z = tf.multiply(x, y)\n",
    "z = x * y\n",
    "\n",
    "z = tf.tensordot(x, y, axes=1)\n",
    "\n",
    "z = x ** 5\n",
    "\n",
    "x = tf.random.normal((2, 3))\n",
    "y = tf.random.normal((3, 2))\n",
    "z = tf.matmul(x, y)\n",
    "z = x @ y\n",
    "\n",
    "x = tf.random.normal((2, 2))\n",
    "\n"
   ]
  },
  {
   "cell_type": "code",
   "execution_count": null,
   "id": "7dde41d8",
   "metadata": {},
   "outputs": [],
   "source": [
    "# Indexing\n",
    "x = tf.constant([0, 1, 1, 2, 3, 1, 2, 3])\n",
    "print(x[:])\n",
    "print(x[1:])\n",
    "print(x[1:3])\n",
    "print(x[::2])\n",
    "print(x[::-1])\n",
    "\n",
    "indices = tf.constant([0, 3])\n",
    "x_indices = tf.gather(x, indices)\n",
    "\n",
    "x = tf.constant([[1, 2], [3, 4], [5, 6]])\n",
    "\n",
    "print(x[0, :])\n",
    "print(x[0:2, :])"
   ]
  },
  {
   "cell_type": "code",
   "execution_count": null,
   "id": "61b01422",
   "metadata": {},
   "outputs": [],
   "source": [
    "\n",
    "# Reshaping\n",
    "x = tf.range(9)\n",
    "\n",
    "x = tf.reshape(x, (3, 3))\n",
    "\n",
    "x = tf.transpose(x, perm=[1, 0])"
   ]
  }
 ],
 "metadata": {
  "kernelspec": {
   "display_name": "Python 3 (ipykernel)",
   "language": "python",
   "name": "python3"
  },
  "language_info": {
   "codemirror_mode": {
    "name": "ipython",
    "version": 3
   },
   "file_extension": ".py",
   "mimetype": "text/x-python",
   "name": "python",
   "nbconvert_exporter": "python",
   "pygments_lexer": "ipython3",
   "version": "3.11.5"
  }
 },
 "nbformat": 4,
 "nbformat_minor": 5
}
